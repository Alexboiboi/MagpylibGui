{
 "cells": [
  {
   "cell_type": "code",
   "execution_count": 29,
   "metadata": {},
   "outputs": [
    {
     "name": "stdout",
     "output_type": "stream",
     "text": [
      "env: PYTHONBREAKPOINT=IPython.core.debugger.set_trace\n"
     ]
    }
   ],
   "source": [
    "%set_env PYTHONBREAKPOINT=IPython.core.debugger.set_trace\n"
   ]
  },
  {
   "cell_type": "code",
   "execution_count": null,
   "metadata": {},
   "outputs": [],
   "source": [
    "def test_breakpoint_with_ipdb():\n",
    "    a = 1\n",
    "    breakpoint()\n",
    "    b = 2\n",
    "    c = 3\n",
    "    final = a + b + c\n",
    "    return final\n",
    "\n",
    "test_breakpoint_with_ipdb()"
   ]
  },
  {
   "cell_type": "code",
   "execution_count": 1,
   "metadata": {},
   "outputs": [],
   "source": [
    "class Magnet:\n",
    "    def __init__(self, mag=(0,0,1), pos=(0,0,0), dim=(1,1,1)):\n",
    "        self._magnetization = mag\n",
    "        self._position = pos\n",
    "        self._dimensions = dim\n",
    "        self.name = 'Magnet'\n",
    "        \n",
    "    @property\n",
    "    def magnetization(self):\n",
    "        return self._magnetization\n",
    "\n",
    "    @magnetization.setter\n",
    "    def magnetization(self, value):\n",
    "        self._magnetization = value\n",
    "        \n",
    "    @property\n",
    "    def position(self):\n",
    "        return self._position\n",
    "\n",
    "    @position.setter\n",
    "    def position(self, value):\n",
    "        self._position = value\n",
    "        \n",
    "    @property\n",
    "    def dimensions(self):\n",
    "        return self._dimensions\n",
    "\n",
    "    @dimensions.setter\n",
    "    def dimensions(self, value):\n",
    "        if sum(n < 0 for n in value) != 0:\n",
    "            raise ValueError(\"Dimensions cannot be negative\")\n",
    "        self._dimensions = value\n",
    "        \n",
    "    def repr__(self):\n",
    "        mag = self._magnetization\n",
    "        dim = self._dimensions\n",
    "        pos = self._position\n",
    "        return 'magnetization :  x: {}mT y: {}mT z: {}mT \\ndimensions :  x: {}mm y: {}mm z: {}mm \\nposition :  x: {}mm y: {}mm z: {}mm'.format(*mag, *dim, *pos)\n",
    "    \n",
    "    def _ipython_display_(self):\n",
    "        from IPython.display import HTML,display\n",
    "        mag = self._magnetization\n",
    "        dim = self._dimensions\n",
    "        pos = self._position\n",
    "        \n",
    "        data = [['property', 'x' , 'y', 'z', 'unit'],\n",
    "                ['magnetization'] + list(mag) + ['mT'],\n",
    "                ['dimensions'] + list(dim)+ ['mm'],\n",
    "                ['position'] + list(pos) + ['mm'],\n",
    "                ]\n",
    "\n",
    "        display(HTML(\n",
    "           '<table><tr>{}</tr></table>'.format(\n",
    "               '</tr><tr>'.join(\n",
    "                   '<td>{}</td>'.format('</td><td>'.join(str(col) for col in row)) for row in data)\n",
    "               )\n",
    "        ))\n",
    "        "
   ]
  },
  {
   "cell_type": "code",
   "execution_count": 5,
   "metadata": {},
   "outputs": [],
   "source": [
    "my_magnet = Magnet()\n",
    "my_magnet.magnetization = (1.9,0,0)"
   ]
  },
  {
   "cell_type": "code",
   "execution_count": 6,
   "metadata": {},
   "outputs": [
    {
     "data": {
      "text/html": [
       "<table><tr><td>property</td><td>x</td><td>y</td><td>z</td><td>unit</td></tr><tr><td>magnetization</td><td>1.9</td><td>0</td><td>0</td><td>mT</td></tr><tr><td>dimensions</td><td>1</td><td>1</td><td>1</td><td>mm</td></tr><tr><td>position</td><td>0</td><td>0</td><td>0</td><td>mm</td></tr></table>"
      ],
      "text/plain": [
       "<IPython.core.display.HTML object>"
      ]
     },
     "metadata": {},
     "output_type": "display_data"
    }
   ],
   "source": [
    "my_magnet"
   ]
  },
  {
   "cell_type": "code",
   "execution_count": 7,
   "metadata": {},
   "outputs": [
    {
     "data": {
      "text/plain": [
       "(1.9, 0, 0)"
      ]
     },
     "execution_count": 7,
     "metadata": {},
     "output_type": "execute_result"
    }
   ],
   "source": [
    "my_magnet.magnetization"
   ]
  },
  {
   "cell_type": "code",
   "execution_count": null,
   "metadata": {},
   "outputs": [],
   "source": []
  }
 ],
 "metadata": {
  "kernelspec": {
   "display_name": "Python 3",
   "language": "python",
   "name": "python3"
  },
  "language_info": {
   "codemirror_mode": {
    "name": "ipython",
    "version": 3
   },
   "file_extension": ".py",
   "mimetype": "text/x-python",
   "name": "python",
   "nbconvert_exporter": "python",
   "pygments_lexer": "ipython3",
   "version": "3.7.3"
  }
 },
 "nbformat": 4,
 "nbformat_minor": 2
}
