{
 "cells": [
  {
   "cell_type": "code",
   "execution_count": 31,
   "metadata": {},
   "outputs": [],
   "source": [
    "from magpylib import source, Collection\n",
    "from numpy import array, linspace, meshgrid\n",
    "from numpy.linalg import norm\n",
    "from matplotlib import pyplot as plt\n",
    "\n",
    "#set font size and define figures\n",
    "plt.rcParams.update({'font.size': 6})\n",
    "\n",
    "fig1 = plt.figure(figsize=(8, 5))\n",
    "axsA = [fig1.add_subplot(2,3,i, projection='3d') for i in range(1,4)]\n",
    "axsB = [fig1.add_subplot(2,3,i) for i in range(4,7)]\n",
    "\n",
    "fig2 = plt.figure(figsize=(8, 5))\n",
    "axsA += [fig2.add_subplot(2,3,i, projection='3d') for i in range(1,4)]\n",
    "axsB += [fig2.add_subplot(2,3,i) for i in range(4,7)]\n",
    "\n",
    "#position grid\n",
    "ts = linspace(-6,6,50)\n",
    "posis = array([(x,0,z) for z in ts for x in ts])\n",
    "X,Y = meshgrid(ts,ts)\n",
    "\n",
    "# source definitions\n",
    "s1 = source.magnet.Box(mag=[500,0,500], dim=[4,4,4])                #Box\n",
    "s2 = source.magnet.Cylinder(mag=[0,0,500], dim=[3,5])               #Cylinder\n",
    "s3 = source.magnet.Sphere(mag=[-200,0,500], dim=5)                  #Sphere\n",
    "s4 = source.current.Line(curr=10, vertices=[(0,-5,0),(0,5,0)])      #Line\n",
    "s5 = source.current.Circular(curr=10, dim=5)                        #Circular\n",
    "s6 = source.moment.Dipole(moment=[0,0,100])                         #Dipole\n",
    "\n",
    "for i,s in enumerate([s1,s2,s3,s4,s5,s6]):\n",
    "\n",
    "    #plot geometry in memory\n",
    "    c = Collection(s)\n",
    "    c.displaySystem(subplotAx=axsA[i],markers=[(6,0,6)],suppress=True)\n",
    "    axsA[i].plot([-6,6,6,-6,-6],[0,0,0,0,0],[-6,-6,6,6,-6])\n",
    "\n",
    "    #plot field in memory\n",
    "    B = array([s.getB(p) for p in posis]).reshape(50,50,3)\n",
    "    axsB[i].pcolor(X,Y,norm(B,axis=2),cmap=plt.cm.get_cmap('coolwarm'))\n",
    "    axsB[i].streamplot(X, Y, B[:,:,0], B[:,:,2], color='k',linewidth=1)\n",
    "\n",
    "#display plots\n",
    "plt.show()"
   ]
  },
  {
   "cell_type": "code",
   "execution_count": 29,
   "metadata": {},
   "outputs": [],
   "source": [
    "pmc = magpy.Collection()\n",
    "pmc.displaySystem();"
   ]
  },
  {
   "cell_type": "code",
   "execution_count": null,
   "metadata": {},
   "outputs": [],
   "source": []
  }
 ],
 "metadata": {
  "kernelspec": {
   "display_name": "Python 3",
   "language": "python",
   "name": "python3"
  },
  "language_info": {
   "codemirror_mode": {
    "name": "ipython",
    "version": 3
   },
   "file_extension": ".py",
   "mimetype": "text/x-python",
   "name": "python",
   "nbconvert_exporter": "python",
   "pygments_lexer": "ipython3",
   "version": "3.7.4"
  }
 },
 "nbformat": 4,
 "nbformat_minor": 4
}
