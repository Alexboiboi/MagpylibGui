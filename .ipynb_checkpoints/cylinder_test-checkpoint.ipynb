{
 "cells": [
  {
   "cell_type": "code",
   "execution_count": null,
   "metadata": {},
   "outputs": [],
   "source": [
    "import plotly.graph_objects as go\n",
    "import numpy as np"
   ]
  },
  {
   "cell_type": "code",
   "execution_count": null,
   "metadata": {},
   "outputs": [],
   "source": [
    "def _plotlyBox(mag=(0,0,1), pos = (0,0,0), dim = (10,10,10), angle=0, axis=(0,0,1), cst=0.1, **kwargs):\n",
    "    box = go.Mesh3d(\n",
    "        i = np.array([7, 0, 0, 0, 4, 4, 2, 6, 4, 0, 3, 7]),\n",
    "        j = np.array([3, 4, 1, 2, 5, 6, 5, 5, 0, 1, 2, 2]),\n",
    "        k = np.array([0, 7, 2, 3, 6, 7, 1, 2, 5, 5, 7, 6]),\n",
    "    )\n",
    "    x = np.array([-1, -1, 1, 1, -1, -1, 1, 1])*0.5*dim[0]+pos[0]\n",
    "    y = np.array([-1, 1, 1, -1, -1, 1, 1, -1])*0.5*dim[1]+pos[1]\n",
    "    z = np.array([-1, -1, -1, -1, 1, 1, 1, 1])*0.5*dim[2]+pos[2]\n",
    "    \n",
    "    if cst is not False:\n",
    "        box.colorscale = _getColorscale(cst)\n",
    "        box.intensity = _getIntensity(points=(x,y,z), mag=mag, pos=pos)\n",
    "        \n",
    "    if angle!=0:\n",
    "        x,y,z = AxisRotation(points=[x,y,z], angle=angle, axis=axis, anchor=pos)\n",
    "    \n",
    "    box.x , box.y, box.z = x,y,z\n",
    "    box.update(**kwargs)\n",
    "    return box\n",
    "\n",
    "def _plotlyCylinder(mag=(0,0,1), pos = (0,0,0), dim = (5,10,0), angle=0, axis=(0,0,1), cst=False, **kwargs):\n",
    "    dim=np.array(dim)\n",
    "    if len(dim)==2:\n",
    "        dim = np.array(list(dim[0:2]) + [0])\n",
    "    elif len(dim) == 3 and dim[2]==0:\n",
    "        dim[2] = 1e-5\n",
    "    ri = min(dim[0]/2,dim[2]/2)\n",
    "    ro = max(dim[0]/2,dim[2]/2)\n",
    "    hmin, hmax = -dim[1]/2, dim[1]/2\n",
    "     \n",
    "    h = [hmin,hmin,hmax,hmax,hmin]\n",
    "    s = np.linspace(0, 2 * np.pi, 40)\n",
    "    sa, ha = np.meshgrid(s, h)\n",
    "\n",
    "    ro = dim[0]/2  ; ri = dim[2]/2\n",
    "    x = ro * np.cos(sa)\n",
    "    y = ro * np.sin(sa)\n",
    "    z = ha\n",
    "\n",
    "    x[0] = x[-2] = x[-1] = ri*np.cos(s)\n",
    "    y[0] = y[-2] = y[-1] = ri*np.sin(s)\n",
    "    \n",
    "    cylinder=go.Surface(x=x+pos[0], y=y+pos[1], z=z+pos[2])\n",
    "    if cst is not False:\n",
    "        cylinder.colorscale = _getColorscale(cst)\n",
    "        cylinder.surfacecolor = _getIntensity(points=(x,y,z), mag=mag, pos=(0,0,0))\n",
    "    if angle!=0:\n",
    "        xr,yr,zr = AxisRotation(points=np.array([x.flatten(),y.flatten(),z.flatten()]), angle=angle, axis=axis, anchor=pos)\n",
    "        cylinder.update(x=xr.reshape(x.shape), y=yr.reshape(y.shape), z=zr.reshape(z.shape))\n",
    "    \n",
    "    cylinder.update(**kwargs)\n",
    "    return cylinder\n",
    "\n",
    "def AxisRotation(points,angle,axis,anchor):\n",
    "    from scipy.spatial.transform import Rotation\n",
    "    points= np.array(points)\n",
    "    rotation = Rotation.from_rotvec(np.deg2rad(angle)*np.array(axis))  \n",
    "    box_rotated = rotation.apply(points.T-anchor) + anchor\n",
    "    return box_rotated.T\n",
    "\n",
    "def _getIntensity(points, mag, pos):\n",
    "    '''points: [x,y,z] array'''\n",
    "    p = np.array(points)\n",
    "    pos = np.array(pos)\n",
    "    m = np.array(mag) / np.linalg.norm(mag)\n",
    "    a = ((p[0]-pos[0])*m[0] + (p[1]-pos[1])*m[1] + (p[2]-pos[2])*m[2])\n",
    "    b = (p[0]-pos[0])**2 + (p[1]-pos[1])**2 + (p[2]-pos[2])**2\n",
    "    return a / np.sqrt(b)\n",
    "\n",
    "def _getColorscale(cst=0.1):\n",
    "    return [[0, 'turquoise'], [0.5*(1-cst), 'turquoise'],[0.5*(1+cst), 'magenta'], [1, 'magenta']]"
   ]
  },
  {
   "cell_type": "code",
   "execution_count": null,
   "metadata": {},
   "outputs": [],
   "source": [
    "fig = go.FigureWidget()\n",
    "fig.add_trace(_plotlyCylinder(mag=(1,0,0),dim=(40,30,20), pos=(20,70,40), cst=0.1))\n",
    "#fig.add_trace(_plotlyBox(mag=(0,0,1), dim=(10,5,5), pos=(10,0,0), angle=50, axis=(0,1,1), cst=0.1))\n",
    "fig"
   ]
  },
  {
   "cell_type": "code",
   "execution_count": null,
   "metadata": {},
   "outputs": [],
   "source": []
  },
  {
   "cell_type": "code",
   "execution_count": null,
   "metadata": {},
   "outputs": [],
   "source": []
  }
 ],
 "metadata": {
  "kernelspec": {
   "display_name": "Python 3",
   "language": "python",
   "name": "python3"
  },
  "language_info": {
   "codemirror_mode": {
    "name": "ipython",
    "version": 3
   },
   "file_extension": ".py",
   "mimetype": "text/x-python",
   "name": "python",
   "nbconvert_exporter": "python",
   "pygments_lexer": "ipython3",
   "version": "3.7.4"
  }
 },
 "nbformat": 4,
 "nbformat_minor": 4
}
