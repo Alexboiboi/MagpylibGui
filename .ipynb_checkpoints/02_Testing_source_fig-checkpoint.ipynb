{
 "cells": [
  {
   "cell_type": "code",
   "execution_count": null,
   "metadata": {},
   "outputs": [],
   "source": [
    "import magpylib as magpy\n",
    "from magpylib import source, Collection\n",
    "import plotly.graph_objects as go\n",
    "import ipywidgets as widgets\n",
    "# source definitions\n",
    "s1 = source.magnet.Box(pos=(0,0,0), mag=[1,1,1], dim=[4,4,4])                #Box\n",
    "s2 = source.magnet.Cylinder(pos=(5,0,0), mag=[0,0,500], dim=[3,5])               #Cylinder\n",
    "s3 = source.magnet.Sphere(pos=(10,0,0), mag=[-200,0,500], dim=5)                  #Sphere\n",
    "s4 = source.current.Line(pos=(15, 0,0), curr=10, vertices=[(0,-5,0),(0,5,0)])      #Line\n",
    "s5 = source.current.Circular(pos=(20, 0,0), curr=10, dim=5)                        #Circular\n",
    "s6 = source.moment.Dipole(pos=(25, 0,0), moment=[0,0,100]) \n",
    "collection = magpy.Collection(s1,s2,s3,s4,s5,s6)"
   ]
  },
  {
   "cell_type": "code",
   "execution_count": null,
   "metadata": {},
   "outputs": [],
   "source": [
    "fig = go.FigureWidget()\n",
    "for s in collection.sources:\n",
    "    s.fig = fig\n",
    "\n",
    "fig.layout.scene.aspectmode='data'\n",
    "fig"
   ]
  },
  {
   "cell_type": "code",
   "execution_count": null,
   "metadata": {},
   "outputs": [],
   "source": [
    "s1.dimension.x = 1"
   ]
  },
  {
   "cell_type": "code",
   "execution_count": null,
   "metadata": {},
   "outputs": [],
   "source": [
    "s2.magnetization = (1,0,1)"
   ]
  },
  {
   "cell_type": "code",
   "execution_count": null,
   "metadata": {},
   "outputs": [],
   "source": [
    "s1.orientation.axis = (1,2,3)"
   ]
  },
  {
   "cell_type": "code",
   "execution_count": null,
   "metadata": {},
   "outputs": [],
   "source": [
    "s1.update_trace()"
   ]
  },
  {
   "cell_type": "code",
   "execution_count": null,
   "metadata": {},
   "outputs": [],
   "source": [
    "s3.dimension = 85"
   ]
  },
  {
   "cell_type": "code",
   "execution_count": null,
   "metadata": {},
   "outputs": [],
   "source": [
    "s2.dimension.height = 4"
   ]
  },
  {
   "cell_type": "code",
   "execution_count": null,
   "metadata": {},
   "outputs": [],
   "source": [
    "s2.position.y = 5"
   ]
  },
  {
   "cell_type": "code",
   "execution_count": null,
   "metadata": {},
   "outputs": [],
   "source": [
    "s3.radius = 3"
   ]
  },
  {
   "cell_type": "code",
   "execution_count": null,
   "metadata": {},
   "outputs": [],
   "source": [
    "s4.orientation = (3, (0,0,1))\n",
    "s4.angle = 45"
   ]
  },
  {
   "cell_type": "code",
   "execution_count": null,
   "metadata": {},
   "outputs": [],
   "source": [
    "s5.angle = s4.angle\n",
    "s5.axis.y = 1"
   ]
  },
  {
   "cell_type": "code",
   "execution_count": null,
   "metadata": {},
   "outputs": [],
   "source": [
    "s6.moment.y= 200"
   ]
  },
  {
   "cell_type": "code",
   "execution_count": null,
   "metadata": {},
   "outputs": [],
   "source": [
    "s6.fig = None # removes the trace from the currently assigned figure"
   ]
  }
 ],
 "metadata": {
  "kernelspec": {
   "display_name": "Python 3",
   "language": "python",
   "name": "python3"
  },
  "language_info": {
   "codemirror_mode": {
    "name": "ipython",
    "version": 3
   },
   "file_extension": ".py",
   "mimetype": "text/x-python",
   "name": "python",
   "nbconvert_exporter": "python",
   "pygments_lexer": "ipython3",
   "version": "3.7.4"
  }
 },
 "nbformat": 4,
 "nbformat_minor": 4
}
