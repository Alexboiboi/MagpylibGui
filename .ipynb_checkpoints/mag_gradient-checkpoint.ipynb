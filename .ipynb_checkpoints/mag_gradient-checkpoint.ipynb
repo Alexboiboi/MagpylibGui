{
 "cells": [
  {
   "cell_type": "code",
   "execution_count": null,
   "metadata": {},
   "outputs": [],
   "source": [
    "import plotly.graph_objects as go\n",
    "import ipywidgets as widgets\n",
    "from scipy.spatial.transform import Rotation\n",
    "import numpy as np\n",
    "import magpylib as magpy\n",
    "import plotly.figure_factory as ff\n",
    "import pandas as pd"
   ]
  },
  {
   "cell_type": "code",
   "execution_count": null,
   "metadata": {},
   "outputs": [],
   "source": [
    "def define_magnet_box(pos=(0,0,0), dim=(1,1,1)):\n",
    "    box = dict(\n",
    "            i = np.array([7, 0, 0, 0, 4, 4, 2, 6, 4, 0, 3, 7]),\n",
    "            j = np.array([3, 4, 1, 2, 5, 6, 5, 5, 0, 1, 2, 2]),\n",
    "            k = np.array([0, 7, 2, 3, 6, 7, 1, 2, 5, 5, 7, 6]),\n",
    "            x = np.array([-0.5, -0.5, 0.5, 0.5, -0.5, -0.5, 0.5, 0.5])*dim[0]+pos[0],\n",
    "            y = np.array([-0.5, 0.5, 0.5, -0.5, -0.5, 0.5, 0.5, -0.5])*dim[1]+pos[1],\n",
    "            z = np.array([-0.5, -0.5, -0.5, -0.5, 0.5, 0.5, 0.5, 0.5])*dim[2]+pos[2],\n",
    "    )\n",
    "    return box.copy()\n",
    "\n",
    "box=define_magnet_box(pos=(50,50,50), dim=(10,10,1))"
   ]
  },
  {
   "cell_type": "code",
   "execution_count": null,
   "metadata": {},
   "outputs": [],
   "source": [
    "fig = go.FigureWidget()\n",
    "fig.add_mesh3d(\n",
    "    colorscale=[[0, 'turquoise'], [1, 'magenta']],\n",
    "    **box)\n",
    "cube = fig.data[-1]\n",
    "fig.layout.scene.aspectmode = 'data'\n",
    "fig"
   ]
  },
  {
   "cell_type": "code",
   "execution_count": null,
   "metadata": {},
   "outputs": [],
   "source": [
    "@widgets.interact()\n",
    "def apply_intensity(x=0,y=0,z=0):\n",
    "    d = (cube.x*x + cube.y*y + cube.z*z) / np.sqrt(cube.x**2 + cube.y**2 + cube.z**2)\n",
    "    cube['intensity'] = d"
   ]
  },
  {
   "cell_type": "code",
   "execution_count": null,
   "metadata": {},
   "outputs": [],
   "source": [
    "x=0\n",
    "y=0\n",
    "z=1\n",
    "d = (cube['x']*x + cube['y']*y + cube['z']*z) / np.sqrt(cube['x']**2 + cube['y']**2 + cube['z']**2)\n",
    "cube['intensity'] = d"
   ]
  },
  {
   "cell_type": "markdown",
   "metadata": {},
   "source": [
    "$$d_{\\mathrm{A}, \\mathrm{P}} =\\frac{\\left| ax_\\mathrm{A} + by_\\mathrm{A} + cz_\\mathrm{A} + d \\right|}{\\sqrt{a^2 + b^2 + c^2}}$$"
   ]
  },
  {
   "cell_type": "code",
   "execution_count": null,
   "metadata": {},
   "outputs": [],
   "source": []
  }
 ],
 "metadata": {
  "kernelspec": {
   "display_name": "Python 3",
   "language": "python",
   "name": "python3"
  },
  "language_info": {
   "codemirror_mode": {
    "name": "ipython",
    "version": 3
   },
   "file_extension": ".py",
   "mimetype": "text/x-python",
   "name": "python",
   "nbconvert_exporter": "python",
   "pygments_lexer": "ipython3",
   "version": "3.7.4"
  }
 },
 "nbformat": 4,
 "nbformat_minor": 4
}
