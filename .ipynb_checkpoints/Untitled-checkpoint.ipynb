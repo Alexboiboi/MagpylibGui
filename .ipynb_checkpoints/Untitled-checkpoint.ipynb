{
 "cells": [
  {
   "cell_type": "code",
   "execution_count": null,
   "metadata": {},
   "outputs": [],
   "source": [
    "import magpylib as magpy\n",
    "from magpylib import source, Collection\n",
    "# source definitions\n",
    "s1 = source.magnet.Box(mag=[1,1,1], dim=[4,4,4])                #Box\n",
    "s2 = source.magnet.Cylinder(mag=[0,0,500], dim=[3,5])               #Cylinder\n",
    "s3 = source.magnet.Sphere(mag=[-200,0,500], dim=5)                  #Sphere\n",
    "s4 = source.current.Line(curr=10, vertices=[(0,-5,0),(0,5,0)])      #Line\n",
    "s5 = source.current.Circular(curr=10, dim=5)                        #Circular\n",
    "s6 = source.moment.Dipole(moment=[0,0,100])      \n",
    "col = Collection(s1,s2)\n",
    "col.displaySystemPlotly(cst = 0)"
   ]
  },
  {
   "cell_type": "code",
   "execution_count": null,
   "metadata": {},
   "outputs": [],
   "source": [
    "s1.position = (4,5,3)"
   ]
  },
  {
   "cell_type": "code",
   "execution_count": null,
   "metadata": {},
   "outputs": [],
   "source": [
    "s1.orientation.axis.x = 5"
   ]
  },
  {
   "cell_type": "code",
   "execution_count": null,
   "metadata": {},
   "outputs": [],
   "source": [
    "s1"
   ]
  },
  {
   "cell_type": "code",
   "execution_count": null,
   "metadata": {},
   "outputs": [],
   "source": [
    "col.displaySystemPlotly(cst = 0)"
   ]
  },
  {
   "cell_type": "code",
   "execution_count": null,
   "metadata": {},
   "outputs": [],
   "source": []
  }
 ],
 "metadata": {
  "kernelspec": {
   "display_name": "Python 3",
   "language": "python",
   "name": "python3"
  },
  "language_info": {
   "codemirror_mode": {
    "name": "ipython",
    "version": 3
   },
   "file_extension": ".py",
   "mimetype": "text/x-python",
   "name": "python",
   "nbconvert_exporter": "python",
   "pygments_lexer": "ipython3",
   "version": "3.7.4"
  }
 },
 "nbformat": 4,
 "nbformat_minor": 4
}
