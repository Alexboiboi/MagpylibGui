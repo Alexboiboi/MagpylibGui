{
 "cells": [
  {
   "cell_type": "code",
   "execution_count": 8,
   "metadata": {},
   "outputs": [],
   "source": [
    "import plotly.graph_objects as go\n",
    "import numpy as np"
   ]
  },
  {
   "cell_type": "code",
   "execution_count": 48,
   "metadata": {},
   "outputs": [],
   "source": [
    "def _define_magnet_box(pos = (0,0,0), dim = (10,10,10), angle=0, axis=None):\n",
    "    box = dict(\n",
    "            i = np.array([7, 0, 0, 0, 4, 4, 2, 6, 4, 0, 3, 7]),\n",
    "            j = np.array([3, 4, 1, 2, 5, 6, 5, 5, 0, 1, 2, 2]),\n",
    "            k = np.array([0, 7, 2, 3, 6, 7, 1, 2, 5, 5, 7, 6]),\n",
    "            x = np.array([-1, -1, 1, 1, -1, -1, 1, 1])*0.5*dim[0]+pos[0],\n",
    "            y = np.array([-1, 1, 1, -1, -1, 1, 1, -1])*0.5*dim[1]+pos[1],\n",
    "            z = np.array([-1, -1, -1, -1, 1, 1, 1, 1])*0.5*dim[2]+pos[2]\n",
    "    )\n",
    "    if angle!=0:\n",
    "        rotation = Rotation.from_rotvec(np.deg2rad(angle)*np.array(axis))\n",
    "        c = np.array([box['x'],box['y'], box['z']])\n",
    "        Mm = (np.max(c,axis=1)+ np.min(c,axis=1))/2          \n",
    "        box_rotated = rotation.apply(c.T-Mm) + Mm\n",
    "        box['x'],box['y'], box['z'] = box_rotated.T\n",
    "    return box.copy()"
   ]
  },
  {
   "cell_type": "code",
   "execution_count": 70,
   "metadata": {},
   "outputs": [
    {
     "data": {
      "application/vnd.jupyter.widget-view+json": {
       "model_id": "b374cb63024e40eabbbff1bf87677181",
       "version_major": 2,
       "version_minor": 0
      },
      "text/plain": [
       "FigureWidget({\n",
       "    'data': [{'type': 'surface',\n",
       "              'uid': 'fbc3700c-a3fc-4795-ace4-faed9d55e28f',\n",
       " …"
      ]
     },
     "metadata": {},
     "output_type": "display_data"
    }
   ],
   "source": [
    "s = np.linspace(0, 2 * np.pi, 100)\n",
    "t = np.linspace(0, np.pi, 2)\n",
    "tGrid, sGrid = np.meshgrid(s, t)\n",
    "\n",
    "r = 1  \n",
    "x = r * np.cos(tGrid)\n",
    "y = r * np.sin(tGrid)\n",
    "z = r * np.cos(sGrid)\n",
    "\n",
    "surface = go.Surface(x=x, y=y, z=z)\n",
    "\n",
    "fig = go.FigureWidget()\n",
    "fig.add_trace(surface)\n",
    "fig.add_mesh3d(**_define_magnet_box(dim=(0.5,0.5,0.5), pos=(1,0,0)))\n",
    "fig"
   ]
  }
 ],
 "metadata": {
  "kernelspec": {
   "display_name": "Python 3",
   "language": "python",
   "name": "python3"
  },
  "language_info": {
   "codemirror_mode": {
    "name": "ipython",
    "version": 3
   },
   "file_extension": ".py",
   "mimetype": "text/x-python",
   "name": "python",
   "nbconvert_exporter": "python",
   "pygments_lexer": "ipython3",
   "version": "3.6.7"
  }
 },
 "nbformat": 4,
 "nbformat_minor": 4
}
